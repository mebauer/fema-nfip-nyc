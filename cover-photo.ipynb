{
 "cells": [
  {
   "cell_type": "markdown",
   "id": "5eb2b68b",
   "metadata": {},
   "source": [
    "# National Flood Insurance Program Data for NYC\n",
    "## Cover Photo"
   ]
  },
  {
   "cell_type": "code",
   "execution_count": 1,
   "id": "fbc9148c",
   "metadata": {},
   "outputs": [],
   "source": [
    "# importing libraries\n",
    "import os\n",
    "import glob\n",
    "import numpy as np\n",
    "import pandas as pd\n",
    "import geopandas as gpd\n",
    "import matplotlib.pyplot as plt\n",
    "import seaborn as sns\n",
    "import urllib\n",
    "import urllib.request\n",
    "import requests\n",
    "import matplotlib.patches as mpatches\n",
    "\n",
    "plt.rcParams['savefig.facecolor'] = 'white'\n",
    "%matplotlib inline"
   ]
  },
  {
   "cell_type": "code",
   "execution_count": 2,
   "id": "f54d766c",
   "metadata": {},
   "outputs": [
    {
     "name": "stdout",
     "output_type": "stream",
     "text": [
      "printing packages and versions:\n",
      "\n",
      "Python implementation: CPython\n",
      "Python version       : 3.8.13\n",
      "IPython version      : 8.4.0\n",
      "\n",
      "numpy     : 1.23.1\n",
      "pandas    : 1.4.3\n",
      "geopandas : 0.11.1\n",
      "matplotlib: 3.5.2\n",
      "seaborn   : 0.11.2\n",
      "\n"
     ]
    }
   ],
   "source": [
    "print('printing packages and versions:\\n')\n",
    "\n",
    "%reload_ext watermark\n",
    "%watermark -v -p numpy,pandas,geopandas,matplotlib,seaborn"
   ]
  },
  {
   "cell_type": "code",
   "execution_count": 3,
   "id": "2bc8ad97",
   "metadata": {},
   "outputs": [
    {
     "name": "stdout",
     "output_type": "stream",
     "text": [
      "shape of data: (5, 5)\n"
     ]
    },
    {
     "data": {
      "text/html": [
       "<div>\n",
       "<style scoped>\n",
       "    .dataframe tbody tr th:only-of-type {\n",
       "        vertical-align: middle;\n",
       "    }\n",
       "\n",
       "    .dataframe tbody tr th {\n",
       "        vertical-align: top;\n",
       "    }\n",
       "\n",
       "    .dataframe thead th {\n",
       "        text-align: right;\n",
       "    }\n",
       "</style>\n",
       "<table border=\"1\" class=\"dataframe\">\n",
       "  <thead>\n",
       "    <tr style=\"text-align: right;\">\n",
       "      <th></th>\n",
       "      <th>boro_code</th>\n",
       "      <th>boro_name</th>\n",
       "      <th>shape_area</th>\n",
       "      <th>shape_leng</th>\n",
       "      <th>geometry</th>\n",
       "    </tr>\n",
       "  </thead>\n",
       "  <tbody>\n",
       "    <tr>\n",
       "      <th>0</th>\n",
       "      <td>5.0</td>\n",
       "      <td>Staten Island</td>\n",
       "      <td>1.623621e+09</td>\n",
       "      <td>325917.353950</td>\n",
       "      <td>MULTIPOLYGON (((970217.022 145643.332, 970227....</td>\n",
       "    </tr>\n",
       "    <tr>\n",
       "      <th>1</th>\n",
       "      <td>1.0</td>\n",
       "      <td>Manhattan</td>\n",
       "      <td>6.365205e+08</td>\n",
       "      <td>357713.308162</td>\n",
       "      <td>MULTIPOLYGON (((981219.056 188655.316, 980940....</td>\n",
       "    </tr>\n",
       "    <tr>\n",
       "      <th>2</th>\n",
       "      <td>2.0</td>\n",
       "      <td>Bronx</td>\n",
       "      <td>1.187175e+09</td>\n",
       "      <td>463180.579449</td>\n",
       "      <td>MULTIPOLYGON (((1012821.806 229228.265, 101278...</td>\n",
       "    </tr>\n",
       "    <tr>\n",
       "      <th>3</th>\n",
       "      <td>3.0</td>\n",
       "      <td>Brooklyn</td>\n",
       "      <td>1.934138e+09</td>\n",
       "      <td>728146.574928</td>\n",
       "      <td>MULTIPOLYGON (((1022227.320 152028.146, 102207...</td>\n",
       "    </tr>\n",
       "    <tr>\n",
       "      <th>4</th>\n",
       "      <td>4.0</td>\n",
       "      <td>Queens</td>\n",
       "      <td>3.041419e+09</td>\n",
       "      <td>888199.731385</td>\n",
       "      <td>MULTIPOLYGON (((1032452.015 154469.237, 103245...</td>\n",
       "    </tr>\n",
       "  </tbody>\n",
       "</table>\n",
       "</div>"
      ],
      "text/plain": [
       "   boro_code      boro_name    shape_area     shape_leng  \\\n",
       "0        5.0  Staten Island  1.623621e+09  325917.353950   \n",
       "1        1.0      Manhattan  6.365205e+08  357713.308162   \n",
       "2        2.0          Bronx  1.187175e+09  463180.579449   \n",
       "3        3.0       Brooklyn  1.934138e+09  728146.574928   \n",
       "4        4.0         Queens  3.041419e+09  888199.731385   \n",
       "\n",
       "                                            geometry  \n",
       "0  MULTIPOLYGON (((970217.022 145643.332, 970227....  \n",
       "1  MULTIPOLYGON (((981219.056 188655.316, 980940....  \n",
       "2  MULTIPOLYGON (((1012821.806 229228.265, 101278...  \n",
       "3  MULTIPOLYGON (((1022227.320 152028.146, 102207...  \n",
       "4  MULTIPOLYGON (((1032452.015 154469.237, 103245...  "
      ]
     },
     "execution_count": 3,
     "metadata": {},
     "output_type": "execute_result"
    }
   ],
   "source": [
    "# importing borough boundaries\n",
    "path = 'https://data.cityofnewyork.us/api/geospatial/tqmj-j8zm?method=export&format=Shapefile'\n",
    "borough_gdf = gpd.read_file(path)\n",
    "borough_gdf = borough_gdf.to_crs(2263)\n",
    "\n",
    "# preview data\n",
    "print('shape of data: {}'.format(borough_gdf.shape))\n",
    "borough_gdf.head()"
   ]
  },
  {
   "cell_type": "code",
   "execution_count": 4,
   "id": "4bb87b43",
   "metadata": {},
   "outputs": [
    {
     "data": {
      "text/plain": [
       "<AxesSubplot:>"
      ]
     },
     "execution_count": 4,
     "metadata": {},
     "output_type": "execute_result"
    },
    {
     "data": {
      "image/png": "[encoded data removed]",
      "text/plain": [
       "<Figure size 432x288 with 1 Axes>"
      ]
     },
     "metadata": {
      "needs_background": "light"
     },
     "output_type": "display_data"
    }
   ],
   "source": [
    "borough_gdf = (\n",
    "    borough_gdf\n",
    "    .loc[borough_gdf['boro_name'].isin(['Manhattan', 'Brooklyn'])]\n",
    "    .reset_index(drop=True)\n",
    ")\n",
    "\n",
    "borough_gdf.plot()"
   ]
  },
  {
   "cell_type": "code",
   "execution_count": 5,
   "id": "71bec110",
   "metadata": {},
   "outputs": [
    {
     "name": "stdout",
     "output_type": "stream",
     "text": [
      "claims-36005.json    claims-36085.json    policies-36061.json\r\n",
      "claims-36047.json    fema-pfirm.zip       policies-36081.json\r\n",
      "claims-36061.json    policies-36005.json  policies-36085.json\r\n",
      "claims-36081.json    policies-36047.json\r\n"
     ]
    }
   ],
   "source": [
    "# url path from the web\n",
    "url = 'https://msc.fema.gov/portal/downloadProduct?productID=360497_PRELIMDB'\n",
    "file = 'data/fema-pfirm.zip'\n",
    "\n",
    "# download to data/ folder\n",
    "urllib.request.urlretrieve(url, file)\n",
    "\n",
    "%ls data/"
   ]
  },
  {
   "cell_type": "code",
   "execution_count": 6,
   "id": "fb3e6da5",
   "metadata": {},
   "outputs": [
    {
     "name": "stdout",
     "output_type": "stream",
     "text": [
      "shape of data: (3985, 15)\n"
     ]
    },
    {
     "data": {
      "text/html": [
       "<div>\n",
       "<style scoped>\n",
       "    .dataframe tbody tr th:only-of-type {\n",
       "        vertical-align: middle;\n",
       "    }\n",
       "\n",
       "    .dataframe tbody tr th {\n",
       "        vertical-align: top;\n",
       "    }\n",
       "\n",
       "    .dataframe thead th {\n",
       "        text-align: right;\n",
       "    }\n",
       "</style>\n",
       "<table border=\"1\" class=\"dataframe\">\n",
       "  <thead>\n",
       "    <tr style=\"text-align: right;\">\n",
       "      <th></th>\n",
       "      <th>FLD_AR_ID</th>\n",
       "      <th>FLD_ZONE</th>\n",
       "      <th>FLOODWAY</th>\n",
       "      <th>SFHA_TF</th>\n",
       "      <th>STATIC_BFE</th>\n",
       "      <th>V_DATUM</th>\n",
       "      <th>DEPTH</th>\n",
       "      <th>LEN_UNIT</th>\n",
       "      <th>VELOCITY</th>\n",
       "      <th>VEL_UNIT</th>\n",
       "      <th>AR_REVERT</th>\n",
       "      <th>BFE_REVERT</th>\n",
       "      <th>DEP_REVERT</th>\n",
       "      <th>SOURCE_CIT</th>\n",
       "      <th>geometry</th>\n",
       "    </tr>\n",
       "  </thead>\n",
       "  <tbody>\n",
       "    <tr>\n",
       "      <th>0</th>\n",
       "      <td>81</td>\n",
       "      <td>AE</td>\n",
       "      <td>None</td>\n",
       "      <td>T</td>\n",
       "      <td>13.0</td>\n",
       "      <td>NAVD88</td>\n",
       "      <td>-9999.0</td>\n",
       "      <td>FEET</td>\n",
       "      <td>-9999.0</td>\n",
       "      <td>None</td>\n",
       "      <td>None</td>\n",
       "      <td>-9999.0</td>\n",
       "      <td>-9999.0</td>\n",
       "      <td>STUDY4</td>\n",
       "      <td>POLYGON ((1032001.691 263867.839, 1032006.047 ...</td>\n",
       "    </tr>\n",
       "    <tr>\n",
       "      <th>1</th>\n",
       "      <td>82</td>\n",
       "      <td>X</td>\n",
       "      <td>None</td>\n",
       "      <td>F</td>\n",
       "      <td>-9999.0</td>\n",
       "      <td>None</td>\n",
       "      <td>-9999.0</td>\n",
       "      <td>None</td>\n",
       "      <td>-9999.0</td>\n",
       "      <td>None</td>\n",
       "      <td>None</td>\n",
       "      <td>-9999.0</td>\n",
       "      <td>-9999.0</td>\n",
       "      <td>STUDY4</td>\n",
       "      <td>POLYGON ((1033748.952 263778.464, 1033752.656 ...</td>\n",
       "    </tr>\n",
       "    <tr>\n",
       "      <th>2</th>\n",
       "      <td>83</td>\n",
       "      <td>0.2 PCT ANNUAL CHANCE FLOOD HAZARD</td>\n",
       "      <td>None</td>\n",
       "      <td>F</td>\n",
       "      <td>-9999.0</td>\n",
       "      <td>None</td>\n",
       "      <td>-9999.0</td>\n",
       "      <td>None</td>\n",
       "      <td>-9999.0</td>\n",
       "      <td>None</td>\n",
       "      <td>None</td>\n",
       "      <td>-9999.0</td>\n",
       "      <td>-9999.0</td>\n",
       "      <td>STUDY4</td>\n",
       "      <td>POLYGON ((1033309.701 263544.181, 1033322.210 ...</td>\n",
       "    </tr>\n",
       "    <tr>\n",
       "      <th>3</th>\n",
       "      <td>84</td>\n",
       "      <td>0.2 PCT ANNUAL CHANCE FLOOD HAZARD</td>\n",
       "      <td>None</td>\n",
       "      <td>F</td>\n",
       "      <td>-9999.0</td>\n",
       "      <td>None</td>\n",
       "      <td>-9999.0</td>\n",
       "      <td>None</td>\n",
       "      <td>-9999.0</td>\n",
       "      <td>None</td>\n",
       "      <td>None</td>\n",
       "      <td>-9999.0</td>\n",
       "      <td>-9999.0</td>\n",
       "      <td>STUDY4</td>\n",
       "      <td>POLYGON ((1033414.148 262658.868, 1033414.934 ...</td>\n",
       "    </tr>\n",
       "    <tr>\n",
       "      <th>4</th>\n",
       "      <td>85</td>\n",
       "      <td>0.2 PCT ANNUAL CHANCE FLOOD HAZARD</td>\n",
       "      <td>None</td>\n",
       "      <td>F</td>\n",
       "      <td>-9999.0</td>\n",
       "      <td>None</td>\n",
       "      <td>-9999.0</td>\n",
       "      <td>None</td>\n",
       "      <td>-9999.0</td>\n",
       "      <td>None</td>\n",
       "      <td>None</td>\n",
       "      <td>-9999.0</td>\n",
       "      <td>-9999.0</td>\n",
       "      <td>STUDY4</td>\n",
       "      <td>POLYGON ((1034089.115 262466.034, 1034089.402 ...</td>\n",
       "    </tr>\n",
       "  </tbody>\n",
       "</table>\n",
       "</div>"
      ],
      "text/plain": [
       "  FLD_AR_ID                            FLD_ZONE FLOODWAY SFHA_TF  STATIC_BFE  \\\n",
       "0        81                                  AE     None       T        13.0   \n",
       "1        82                                   X     None       F     -9999.0   \n",
       "2        83  0.2 PCT ANNUAL CHANCE FLOOD HAZARD     None       F     -9999.0   \n",
       "3        84  0.2 PCT ANNUAL CHANCE FLOOD HAZARD     None       F     -9999.0   \n",
       "4        85  0.2 PCT ANNUAL CHANCE FLOOD HAZARD     None       F     -9999.0   \n",
       "\n",
       "  V_DATUM   DEPTH LEN_UNIT  VELOCITY VEL_UNIT AR_REVERT  BFE_REVERT  \\\n",
       "0  NAVD88 -9999.0     FEET   -9999.0     None      None     -9999.0   \n",
       "1    None -9999.0     None   -9999.0     None      None     -9999.0   \n",
       "2    None -9999.0     None   -9999.0     None      None     -9999.0   \n",
       "3    None -9999.0     None   -9999.0     None      None     -9999.0   \n",
       "4    None -9999.0     None   -9999.0     None      None     -9999.0   \n",
       "\n",
       "   DEP_REVERT SOURCE_CIT                                           geometry  \n",
       "0     -9999.0     STUDY4  POLYGON ((1032001.691 263867.839, 1032006.047 ...  \n",
       "1     -9999.0     STUDY4  POLYGON ((1033748.952 263778.464, 1033752.656 ...  \n",
       "2     -9999.0     STUDY4  POLYGON ((1033309.701 263544.181, 1033322.210 ...  \n",
       "3     -9999.0     STUDY4  POLYGON ((1033414.148 262658.868, 1033414.934 ...  \n",
       "4     -9999.0     STUDY4  POLYGON ((1034089.115 262466.034, 1034089.402 ...  "
      ]
     },
     "execution_count": 6,
     "metadata": {},
     "output_type": "execute_result"
    }
   ],
   "source": [
    "# reading in shape file\n",
    "path = 'data/fema-pfirm.zip!s_fld_haz_ar.shp'\n",
    "pfirm_gdf = gpd.read_file(path)\n",
    "\n",
    "# examine data\n",
    "print('shape of data: {}'.format(pfirm_gdf.shape))\n",
    "pfirm_gdf.head()"
   ]
  },
  {
   "cell_type": "code",
   "execution_count": 7,
   "id": "973e7f76",
   "metadata": {},
   "outputs": [
    {
     "data": {
      "text/plain": [
       "<Derived Projected CRS: EPSG:2263>\n",
       "Name: NAD83 / New York Long Island (ftUS)\n",
       "Axis Info [cartesian]:\n",
       "- X[east]: Easting (US survey foot)\n",
       "- Y[north]: Northing (US survey foot)\n",
       "Area of Use:\n",
       "- name: United States (USA) - New York - counties of Bronx; Kings; Nassau; New York; Queens; Richmond; Suffolk.\n",
       "- bounds: (-74.26, 40.47, -71.8, 41.3)\n",
       "Coordinate Operation:\n",
       "- name: SPCS83 New York Long Island zone (US Survey feet)\n",
       "- method: Lambert Conic Conformal (2SP)\n",
       "Datum: North American Datum 1983\n",
       "- Ellipsoid: GRS 1980\n",
       "- Prime Meridian: Greenwich"
      ]
     },
     "execution_count": 7,
     "metadata": {},
     "output_type": "execute_result"
    }
   ],
   "source": [
    "if pfirm_gdf.crs is None:\n",
    "    # manually set crs to 2263\n",
    "    pfirm_gdf = pfirm_gdf.set_crs(2263)\n",
    "    \n",
    "pfirm_gdf.crs"
   ]
  },
  {
   "cell_type": "code",
   "execution_count": 8,
   "id": "8bd1e076",
   "metadata": {},
   "outputs": [
    {
     "data": {
      "text/html": [
       "<div>\n",
       "<style scoped>\n",
       "    .dataframe tbody tr th:only-of-type {\n",
       "        vertical-align: middle;\n",
       "    }\n",
       "\n",
       "    .dataframe tbody tr th {\n",
       "        vertical-align: top;\n",
       "    }\n",
       "\n",
       "    .dataframe thead th {\n",
       "        text-align: right;\n",
       "    }\n",
       "</style>\n",
       "<table border=\"1\" class=\"dataframe\">\n",
       "  <thead>\n",
       "    <tr style=\"text-align: right;\">\n",
       "      <th></th>\n",
       "      <th>FLD_AR_ID</th>\n",
       "      <th>FLD_ZONE</th>\n",
       "      <th>FLOODWAY</th>\n",
       "      <th>SFHA_TF</th>\n",
       "      <th>STATIC_BFE</th>\n",
       "      <th>V_DATUM</th>\n",
       "      <th>DEPTH</th>\n",
       "      <th>LEN_UNIT</th>\n",
       "      <th>VELOCITY</th>\n",
       "      <th>VEL_UNIT</th>\n",
       "      <th>AR_REVERT</th>\n",
       "      <th>BFE_REVERT</th>\n",
       "      <th>DEP_REVERT</th>\n",
       "      <th>SOURCE_CIT</th>\n",
       "      <th>geometry</th>\n",
       "    </tr>\n",
       "  </thead>\n",
       "  <tbody>\n",
       "    <tr>\n",
       "      <th>0</th>\n",
       "      <td>81</td>\n",
       "      <td>AE</td>\n",
       "      <td>None</td>\n",
       "      <td>T</td>\n",
       "      <td>13.0</td>\n",
       "      <td>NAVD88</td>\n",
       "      <td>-9999.0</td>\n",
       "      <td>FEET</td>\n",
       "      <td>-9999.0</td>\n",
       "      <td>None</td>\n",
       "      <td>None</td>\n",
       "      <td>-9999.0</td>\n",
       "      <td>-9999.0</td>\n",
       "      <td>STUDY4</td>\n",
       "      <td>POLYGON ((1032001.691 263867.839, 1032006.047 ...</td>\n",
       "    </tr>\n",
       "    <tr>\n",
       "      <th>2</th>\n",
       "      <td>83</td>\n",
       "      <td>0.2 PCT ANNUAL CHANCE FLOOD HAZARD</td>\n",
       "      <td>None</td>\n",
       "      <td>F</td>\n",
       "      <td>-9999.0</td>\n",
       "      <td>None</td>\n",
       "      <td>-9999.0</td>\n",
       "      <td>None</td>\n",
       "      <td>-9999.0</td>\n",
       "      <td>None</td>\n",
       "      <td>None</td>\n",
       "      <td>-9999.0</td>\n",
       "      <td>-9999.0</td>\n",
       "      <td>STUDY4</td>\n",
       "      <td>POLYGON ((1033309.701 263544.181, 1033322.210 ...</td>\n",
       "    </tr>\n",
       "    <tr>\n",
       "      <th>3</th>\n",
       "      <td>84</td>\n",
       "      <td>0.2 PCT ANNUAL CHANCE FLOOD HAZARD</td>\n",
       "      <td>None</td>\n",
       "      <td>F</td>\n",
       "      <td>-9999.0</td>\n",
       "      <td>None</td>\n",
       "      <td>-9999.0</td>\n",
       "      <td>None</td>\n",
       "      <td>-9999.0</td>\n",
       "      <td>None</td>\n",
       "      <td>None</td>\n",
       "      <td>-9999.0</td>\n",
       "      <td>-9999.0</td>\n",
       "      <td>STUDY4</td>\n",
       "      <td>POLYGON ((1033414.148 262658.868, 1033414.934 ...</td>\n",
       "    </tr>\n",
       "    <tr>\n",
       "      <th>4</th>\n",
       "      <td>85</td>\n",
       "      <td>0.2 PCT ANNUAL CHANCE FLOOD HAZARD</td>\n",
       "      <td>None</td>\n",
       "      <td>F</td>\n",
       "      <td>-9999.0</td>\n",
       "      <td>None</td>\n",
       "      <td>-9999.0</td>\n",
       "      <td>None</td>\n",
       "      <td>-9999.0</td>\n",
       "      <td>None</td>\n",
       "      <td>None</td>\n",
       "      <td>-9999.0</td>\n",
       "      <td>-9999.0</td>\n",
       "      <td>STUDY4</td>\n",
       "      <td>POLYGON ((1034089.115 262466.034, 1034089.402 ...</td>\n",
       "    </tr>\n",
       "    <tr>\n",
       "      <th>5</th>\n",
       "      <td>86</td>\n",
       "      <td>0.2 PCT ANNUAL CHANCE FLOOD HAZARD</td>\n",
       "      <td>None</td>\n",
       "      <td>F</td>\n",
       "      <td>-9999.0</td>\n",
       "      <td>None</td>\n",
       "      <td>-9999.0</td>\n",
       "      <td>None</td>\n",
       "      <td>-9999.0</td>\n",
       "      <td>None</td>\n",
       "      <td>None</td>\n",
       "      <td>-9999.0</td>\n",
       "      <td>-9999.0</td>\n",
       "      <td>STUDY4</td>\n",
       "      <td>POLYGON ((1033316.808 262437.816, 1033316.108 ...</td>\n",
       "    </tr>\n",
       "  </tbody>\n",
       "</table>\n",
       "</div>"
      ],
      "text/plain": [
       "  FLD_AR_ID                            FLD_ZONE FLOODWAY SFHA_TF  STATIC_BFE  \\\n",
       "0        81                                  AE     None       T        13.0   \n",
       "2        83  0.2 PCT ANNUAL CHANCE FLOOD HAZARD     None       F     -9999.0   \n",
       "3        84  0.2 PCT ANNUAL CHANCE FLOOD HAZARD     None       F     -9999.0   \n",
       "4        85  0.2 PCT ANNUAL CHANCE FLOOD HAZARD     None       F     -9999.0   \n",
       "5        86  0.2 PCT ANNUAL CHANCE FLOOD HAZARD     None       F     -9999.0   \n",
       "\n",
       "  V_DATUM   DEPTH LEN_UNIT  VELOCITY VEL_UNIT AR_REVERT  BFE_REVERT  \\\n",
       "0  NAVD88 -9999.0     FEET   -9999.0     None      None     -9999.0   \n",
       "2    None -9999.0     None   -9999.0     None      None     -9999.0   \n",
       "3    None -9999.0     None   -9999.0     None      None     -9999.0   \n",
       "4    None -9999.0     None   -9999.0     None      None     -9999.0   \n",
       "5    None -9999.0     None   -9999.0     None      None     -9999.0   \n",
       "\n",
       "   DEP_REVERT SOURCE_CIT                                           geometry  \n",
       "0     -9999.0     STUDY4  POLYGON ((1032001.691 263867.839, 1032006.047 ...  \n",
       "2     -9999.0     STUDY4  POLYGON ((1033309.701 263544.181, 1033322.210 ...  \n",
       "3     -9999.0     STUDY4  POLYGON ((1033414.148 262658.868, 1033414.934 ...  \n",
       "4     -9999.0     STUDY4  POLYGON ((1034089.115 262466.034, 1034089.402 ...  \n",
       "5     -9999.0     STUDY4  POLYGON ((1033316.808 262437.816, 1033316.108 ...  "
      ]
     },
     "execution_count": 8,
     "metadata": {},
     "output_type": "execute_result"
    }
   ],
   "source": [
    "condition = (\n",
    "    (pfirm_gdf['SFHA_TF'] == 'T')\n",
    "    | (pfirm_gdf['FLD_ZONE'] == '0.2 PCT ANNUAL CHANCE FLOOD HAZARD')\n",
    ")\n",
    "\n",
    "pfirm_gdf = pfirm_gdf.loc[condition]\n",
    "\n",
    "pfirm_gdf.head()"
   ]
  },
  {
   "cell_type": "code",
   "execution_count": 9,
   "id": "ff2615f7",
   "metadata": {},
   "outputs": [
    {
     "data": {
      "text/plain": [
       "<AxesSubplot:>"
      ]
     },
     "execution_count": 9,
     "metadata": {},
     "output_type": "execute_result"
    },
    {
     "data": {
      "image/png": "[encoded data removed]",
      "text/plain": [
       "<Figure size 432x288 with 1 Axes>"
      ]
     },
     "metadata": {
      "needs_background": "light"
     },
     "output_type": "display_data"
    }
   ],
   "source": [
    "# clip flood polygon against borough geometry\n",
    "clipped_pfirm = gpd.clip(pfirm_gdf, borough_gdf)\n",
    "\n",
    "clipped_pfirm.plot()"
   ]
  },
  {
   "cell_type": "code",
   "execution_count": 10,
   "id": "29d1a065",
   "metadata": {},
   "outputs": [
    {
     "data": {
      "image/png": "[encoded data removed]",
      "text/plain": [
       "<Figure size 576x576 with 1 Axes>"
      ]
     },
     "metadata": {
      "needs_background": "light"
     },
     "output_type": "display_data"
    }
   ],
   "source": [
    "fig, ax = plt.subplots(figsize=(8, 8))\n",
    "\n",
    "colors = ['deepskyblue', 'orange']\n",
    "zones = [['VE', 'AE', 'A', 'AO'], ['0.2 PCT ANNUAL CHANCE FLOOD HAZARD']]\n",
    "\n",
    "for zone, color in zip(zones, colors):\n",
    "    \n",
    "    (clipped_pfirm\n",
    "     .loc[clipped_pfirm['FLD_ZONE'].isin(zone)]\n",
    "     .plot(color=color, ax=ax)\n",
    "    )\n",
    "\n",
    "\n",
    "borough_gdf.plot(\n",
    "    ax=ax,\n",
    "    facecolor='None',\n",
    "    zorder=0,\n",
    "    linewidth=1\n",
    ")\n",
    "\n",
    "plt.ylim(180000, 220000)\n",
    "plt.xlim(960000, 1000000)\n",
    "plt.axis('off')\n",
    "plt.savefig('figures/cover-photo.png', bbox_inches='tight', dpi=200)"
   ]
  },
  {
   "cell_type": "code",
   "execution_count": null,
   "id": "eb1069b3",
   "metadata": {},
   "outputs": [],
   "source": []
  }
 ],
 "metadata": {
  "kernelspec": {
   "display_name": "Python 3 (ipykernel)",
   "language": "python",
   "name": "python3"
  },
  "language_info": {
   "codemirror_mode": {
    "name": "ipython",
    "version": 3
   },
   "file_extension": ".py",
   "mimetype": "text/x-python",
   "name": "python",
   "nbconvert_exporter": "python",
   "pygments_lexer": "ipython3",
   "version": "3.8.13"
  }
 },
 "nbformat": 4,
 "nbformat_minor": 5
}
